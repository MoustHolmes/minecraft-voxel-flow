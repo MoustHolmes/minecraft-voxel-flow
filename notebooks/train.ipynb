{
 "cells": [
  {
   "cell_type": "code",
   "execution_count": null,
   "id": "54460595",
   "metadata": {},
   "outputs": [],
   "source": [
    "#imports\n",
    "import lightning as L\n",
    "import matplotlib.pyplot as plt\n",
    "import numpy as np\n",
    "import torch\n",
    "import torch.nn as nn\n",
    "import torch.optim as optim\n",
    "import torch.utils.data as data\n",
    "import wandb\n",
    "from lightning.pytorch import Trainer\n",
    "from lightning.pytorch.loggers import WandbLogger\n",
    "\n",
    "from minecraft_voxel_flow.models.flow_matching import FlowMatching, FlowMatchingCFG\n",
    "from minecraft_voxel_flow.data.MNIST_datamodule import MNISTDataModule\n",
    "from minecraft_voxel_flow.data.moons_datamodule import MoonsDataModule\n",
    "from minecraft_voxel_flow.modules.schedulers import LinearScheduler\n",
    "from minecraft_voxel_flow.modules.samplers import GaussianSampler\n",
    "from minecraft_voxel_flow.modules.solvers import EulerSolver\n",
    "from minecraft_voxel_flow.utils import show_imgs\n"
   ]
  },
  {
   "cell_type": "code",
   "execution_count": null,
   "id": "17a98476",
   "metadata": {},
   "outputs": [],
   "source": [
    "moons_dm = MoonsDataModule()\n",
    "\n",
    "# --- Train Flow Matching Model ---\n",
    "print(\"Training Flow Matching Model\")\n",
    "flow_model_moons = MoonsNet()\n",
    "flow_model = FlowMatching(\n",
    "    model=flow_model_moons,\n",
    "    alpha_beta_scheduler=LinearScheduler(data_dim=2),\n",
    "    sampler=GaussianSampler(target_shape=(2,)),\n",
    ")\n",
    "flow_trainer = Trainer(\n",
    "    max_epochs=7,\n",
    "    accelerator=\"auto\",\n",
    "    devices=\"auto\",\n",
    "    log_every_n_steps=50,\n",
    ")\n",
    "flow_trainer.fit(flow_model, moons_dm)\n",
    "generated_samples = flow_model.generate_samples(steps=50, labels=[0, 1])\n",
    "print(generated_samples)\n",
    "print(\"Flow Matching Model training complete.\")"
   ]
  }
 ],
 "metadata": {
  "kernelspec": {
   "display_name": "my_env",
   "language": "python",
   "name": "python3"
  },
  "language_info": {
   "codemirror_mode": {
    "name": "ipython",
    "version": 3
   },
   "file_extension": ".py",
   "mimetype": "text/x-python",
   "name": "python",
   "nbconvert_exporter": "python",
   "pygments_lexer": "ipython3",
   "version": "3.13.5"
  }
 },
 "nbformat": 4,
 "nbformat_minor": 5
}
