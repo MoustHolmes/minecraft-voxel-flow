{
 "cells": [
  {
   "cell_type": "markdown",
   "id": "8fcf8961",
   "metadata": {},
   "source": [
    "# BlueMap Screenshot Testing\n",
    "\n",
    "Test rendering Minecraft schematics using BlueMap CLI.\n",
    "\n",
    "Based on:\n",
    "- https://bluemap.bluecolored.de/community/python-screenshots.html\n",
    "- https://bluemap.bluecolored.de/wiki/getting-started/Installation.html"
   ]
  },
  {
   "cell_type": "code",
   "execution_count": null,
   "id": "5b284e21",
   "metadata": {},
   "outputs": [],
   "source": [
    "import sys\n",
    "from pathlib import Path\n",
    "\n",
    "# Add src to path\n",
    "sys.path.insert(0, str(Path.cwd().parent / 'src'))\n",
    "sys.path.insert(0, str(Path.cwd().parent / 'scripts'))\n",
    "\n",
    "from bluemap_screenshots import BlueMapRenderer\n",
    "from minecraft_voxel_flow.loaders.schematic_loader import SchematicLoader\n",
    "from minecraft_voxel_flow.visualization.viewers import SchematicViewer\n",
    "\n",
    "import matplotlib.pyplot as plt\n",
    "from IPython.display import Image, display\n",
    "import numpy as np"
   ]
  },
  {
   "cell_type": "markdown",
   "id": "eb1f38c7",
   "metadata": {},
   "source": [
    "## 1. Initialize BlueMap Renderer"
   ]
  },
  {
   "cell_type": "code",
   "execution_count": null,
   "id": "433203ab",
   "metadata": {},
   "outputs": [],
   "source": [
    "renderer = BlueMapRenderer()\n",
    "\n",
    "# Check if everything is ready\n",
    "if renderer.check_requirements():\n",
    "    print(\"\\n✅ BlueMap is ready to use!\")\n",
    "else:\n",
    "    print(\"\\n❌ BlueMap setup incomplete. Check the output above.\")"
   ]
  },
  {
   "cell_type": "markdown",
   "id": "f7635921",
   "metadata": {},
   "source": [
    "## 2. Find Available Schematics"
   ]
  },
  {
   "cell_type": "code",
   "execution_count": null,
   "id": "521cde4d",
   "metadata": {},
   "outputs": [],
   "source": [
    "schematics_dir = Path(\"../data/schematics\")\n",
    "\n",
    "# Find all schematic files\n",
    "schematic_files = (\n",
    "    list(schematics_dir.glob(\"*.schematic\")) +\n",
    "    list(schematics_dir.glob(\"*.schem\")) +\n",
    "    list(schematics_dir.glob(\"*.litematic\"))\n",
    ")\n",
    "\n",
    "print(f\"Found {len(schematic_files)} schematic files\")\n",
    "print(f\"\\nFirst 10 files:\")\n",
    "for f in schematic_files[:10]:\n",
    "    print(f\"  - {f.name}\")"
   ]
  },
  {
   "cell_type": "markdown",
   "id": "722411bb",
   "metadata": {},
   "source": [
    "## 3. Test with a Single Schematic\n",
    "\n",
    "Let's first look at what the schematic contains using our existing loader:"
   ]
  },
  {
   "cell_type": "code",
   "execution_count": null,
   "id": "2bdd25dc",
   "metadata": {},
   "outputs": [],
   "source": [
    "# Pick a schematic to test\n",
    "test_schematic = schematic_files[0]\n",
    "print(f\"Testing with: {test_schematic.name}\")\n",
    "\n",
    "# Load it to see what it looks like\n",
    "loader = SchematicLoader()\n",
    "voxels, palette = loader.load(str(test_schematic))\n",
    "\n",
    "print(f\"\\nSchematic info:\")\n",
    "print(f\"  Shape: {voxels.shape}\")\n",
    "print(f\"  Unique blocks: {len(palette)}\")\n",
    "print(f\"  Non-air blocks: {np.sum(voxels > 0)}\")\n",
    "\n",
    "# Get statistics\n",
    "stats = loader.get_statistics(voxels, palette)\n",
    "print(f\"\\nTop 10 blocks:\")\n",
    "for block, count in stats['top_blocks'][:10]:\n",
    "    print(f\"  - {block}: {count}\")"
   ]
  },
  {
   "cell_type": "markdown",
   "id": "4d37b8f7",
   "metadata": {},
   "source": [
    "## 4. View with Matplotlib (Quick Preview)"
   ]
  },
  {
   "cell_type": "code",
   "execution_count": null,
   "id": "b2e44b1f",
   "metadata": {},
   "outputs": [],
   "source": [
    "viewer = SchematicViewer()\n",
    "\n",
    "# Show 2D slices\n",
    "viewer.view_slices(voxels, palette=palette, title=test_schematic.stem)\n",
    "plt.tight_layout()\n",
    "plt.show()"
   ]
  },
  {
   "cell_type": "markdown",
   "id": "b02870fa",
   "metadata": {},
   "source": [
    "## 5. Test BlueMap Rendering\n",
    "\n",
    "Now let's try rendering with BlueMap for a high-quality 3D visualization."
   ]
  },
  {
   "cell_type": "code",
   "execution_count": null,
   "id": "23f9ed34",
   "metadata": {},
   "outputs": [],
   "source": [
    "output_dir = Path(\"../data/bluemap_test\")\n",
    "output_dir.mkdir(exist_ok=True)\n",
    "\n",
    "output_path = output_dir / f\"{test_schematic.stem}.png\"\n",
    "\n",
    "print(f\"Rendering {test_schematic.name} with BlueMap...\")\n",
    "print(f\"Output: {output_path}\")\n",
    "\n",
    "success = renderer.render_schematic(\n",
    "    str(test_schematic),\n",
    "    str(output_path),\n",
    "    camera_distance=100,\n",
    "    camera_angle=45,\n",
    "    camera_rotation=45\n",
    ")\n",
    "\n",
    "if success and output_path.exists():\n",
    "    print(\"\\n✅ Render successful!\")\n",
    "    display(Image(filename=str(output_path)))\n",
    "else:\n",
    "    print(\"\\n⚠️  Render incomplete or in progress...\")\n",
    "    print(\"Note: BlueMap CLI may require additional setup for direct schematic rendering.\")"
   ]
  },
  {
   "cell_type": "markdown",
   "id": "f09ba44e",
   "metadata": {},
   "source": [
    "## 6. Alternative: Generate Matplotlib Previews\n",
    "\n",
    "While we work on the BlueMap integration, let's use the matplotlib renderer to create previews:"
   ]
  },
  {
   "cell_type": "code",
   "execution_count": null,
   "id": "386e6c56",
   "metadata": {},
   "outputs": [],
   "source": [
    "# Save matplotlib preview\n",
    "preview_path = output_dir / f\"{test_schematic.stem}_preview.png\"\n",
    "\n",
    "viewer.save_render(\n",
    "    voxels,\n",
    "    str(preview_path),\n",
    "    palette=palette,\n",
    "    view_type='slices',\n",
    "    figsize=(15, 10),\n",
    "    title=test_schematic.stem\n",
    ")\n",
    "\n",
    "print(f\"✅ Matplotlib preview saved to: {preview_path}\")\n",
    "display(Image(filename=str(preview_path)))"
   ]
  },
  {
   "cell_type": "markdown",
   "id": "e9263401",
   "metadata": {},
   "source": [
    "## 7. Batch Preview Generation\n",
    "\n",
    "Generate previews for multiple schematics:"
   ]
  },
  {
   "cell_type": "code",
   "execution_count": null,
   "id": "cc5f00ed",
   "metadata": {},
   "outputs": [],
   "source": [
    "from tqdm.notebook import tqdm\n",
    "\n",
    "# Generate previews for first 10 schematics\n",
    "num_to_render = 10\n",
    "preview_dir = Path(\"../data/previews\")\n",
    "preview_dir.mkdir(exist_ok=True)\n",
    "\n",
    "print(f\"Generating previews for {num_to_render} schematics...\")\n",
    "\n",
    "for schematic_path in tqdm(schematic_files[:num_to_render]):\n",
    "    try:\n",
    "        # Load\n",
    "        voxels, palette = loader.load(str(schematic_path))\n",
    "        \n",
    "        # Save preview\n",
    "        output_path = preview_dir / f\"{schematic_path.stem}.png\"\n",
    "        viewer.save_render(\n",
    "            voxels,\n",
    "            str(output_path),\n",
    "            palette=palette,\n",
    "            view_type='slices',\n",
    "            figsize=(12, 8),\n",
    "            title=schematic_path.stem\n",
    "        )\n",
    "        \n",
    "    except Exception as e:\n",
    "        print(f\"\\n❌ Failed to render {schematic_path.name}: {e}\")\n",
    "\n",
    "print(f\"\\n✅ Previews saved to: {preview_dir}\")"
   ]
  },
  {
   "cell_type": "markdown",
   "id": "20a799ac",
   "metadata": {},
   "source": [
    "## 8. Display Gallery of Generated Previews"
   ]
  },
  {
   "cell_type": "code",
   "execution_count": null,
   "id": "5c14d477",
   "metadata": {},
   "outputs": [],
   "source": [
    "# Show grid of previews\n",
    "preview_files = list(preview_dir.glob(\"*.png\"))[:12]\n",
    "\n",
    "if preview_files:\n",
    "    n_cols = 3\n",
    "    n_rows = (len(preview_files) + n_cols - 1) // n_cols\n",
    "    \n",
    "    fig, axes = plt.subplots(n_rows, n_cols, figsize=(18, 6*n_rows))\n",
    "    axes = axes.flatten() if n_rows > 1 else [axes] if n_cols == 1 else axes\n",
    "    \n",
    "    for idx, preview_file in enumerate(preview_files):\n",
    "        if idx < len(axes):\n",
    "            img = plt.imread(preview_file)\n",
    "            axes[idx].imshow(img)\n",
    "            axes[idx].set_title(preview_file.stem, fontsize=10)\n",
    "            axes[idx].axis('off')\n",
    "    \n",
    "    # Hide unused subplots\n",
    "    for idx in range(len(preview_files), len(axes)):\n",
    "        axes[idx].axis('off')\n",
    "    \n",
    "    plt.tight_layout()\n",
    "    plt.show()\n",
    "else:\n",
    "    print(\"No preview files found. Run the batch generation cell first.\")"
   ]
  },
  {
   "cell_type": "markdown",
   "id": "ce1b1698",
   "metadata": {},
   "source": [
    "## 9. Compare Different View Types"
   ]
  },
  {
   "cell_type": "code",
   "execution_count": null,
   "id": "bb5b6d28",
   "metadata": {},
   "outputs": [],
   "source": [
    "# Pick a schematic\n",
    "test_idx = 5\n",
    "if test_idx < len(schematic_files):\n",
    "    test_file = schematic_files[test_idx]\n",
    "    voxels, palette = loader.load(str(test_file))\n",
    "    \n",
    "    print(f\"Comparing views for: {test_file.name}\")\n",
    "    print(f\"Shape: {voxels.shape}\")\n",
    "    \n",
    "    # 2D Slices\n",
    "    fig = viewer.view_slices(voxels, palette=palette, title=f\"{test_file.stem} - 2D Slices\")\n",
    "    plt.show()\n",
    "    \n",
    "    # 3D Scatter (if not too large)\n",
    "    if np.sum(voxels > 0) < 10000:  # Only if reasonable number of blocks\n",
    "        fig = viewer.view_3d(voxels, palette=palette, title=f\"{test_file.stem} - 3D View\")\n",
    "        fig.show()\n",
    "    else:\n",
    "        print(f\"\\nSkipping 3D view - too many blocks ({np.sum(voxels > 0)})\")"
   ]
  },
  {
   "cell_type": "markdown",
   "id": "65c5c891",
   "metadata": {},
   "source": [
    "## 10. Batch Process All Schematics (Optional)\n",
    "\n",
    "⚠️ **Warning**: This will process all schematics. Consider running with smaller batches first."
   ]
  },
  {
   "cell_type": "code",
   "execution_count": null,
   "id": "28b9450c",
   "metadata": {},
   "outputs": [],
   "source": [
    "# Uncomment to run batch processing\n",
    "# from generate_previews import generate_previews\n",
    "\n",
    "# generate_previews(\n",
    "#     schematics_dir=\"../data/schematics\",\n",
    "#     output_dir=\"../data/previews_all\",\n",
    "#     max_schematics=100,  # Start with 100\n",
    "#     view_type=\"slices\",\n",
    "#     figsize=(15, 10)\n",
    "# )\n",
    "\n",
    "print(\"Uncomment the code above to run batch processing.\")"
   ]
  },
  {
   "cell_type": "markdown",
   "id": "c0f8dbdb",
   "metadata": {},
   "source": [
    "## Summary\n",
    "\n",
    "This notebook demonstrates:\n",
    "1. ✅ Loading schematics with SchematicLoader\n",
    "2. ✅ Viewing with matplotlib (2D slices and 3D scatter)\n",
    "3. ✅ Batch generating preview images\n",
    "4. ⏳ BlueMap integration (requires additional setup for schematic conversion)\n",
    "\n",
    "For production use, the matplotlib-based previews are fast and reliable. BlueMap would provide higher quality 3D renders but requires converting schematics to Minecraft worlds first."
   ]
  }
 ],
 "metadata": {
  "language_info": {
   "name": "python"
  }
 },
 "nbformat": 4,
 "nbformat_minor": 5
}
